{
 "cells": [
  {
   "cell_type": "code",
   "execution_count": 3,
   "metadata": {},
   "outputs": [],
   "source": [
    "import tifffile as tiff\n",
    "import numpy as np\n",
    "import matplotlib.pyplot as plt\n",
    "import napari"
   ]
  },
  {
   "cell_type": "code",
   "execution_count": 2,
   "metadata": {},
   "outputs": [],
   "source": [
    "movie = tiff.imread(\"data/registered_full_movie.tif\")"
   ]
  },
  {
   "cell_type": "markdown",
   "metadata": {},
   "source": [
    "# Manual ROI Selection with Napari: Labeling Images\n",
    "\n",
    "Identifying individual neurons in calcium imaging data is an essential step in extracting activity traces and understanding single-cell dynamics. This notebook introduces manual annotation tools in Napari, a viewer designed for biological image analysis. Each section covers a key step in the labeling process — from installation to exporting ROIs — and focuses on practical skills for working with single-cell imaging datasets."
   ]
  },
  {
   "cell_type": "markdown",
   "metadata": {},
   "source": [
    "### Setting Up Napari with Conda\n",
    "\n",
    "This section focuses on setting up a working Python environment for loading and annotating calcium imaging data. Using Conda, we will install Napari and supporting libraries and verify that imaging data can be loaded and visualized. A consistent environment ensures that the annotation tools used throughout the workflow behave predictably.\n",
    "\n",
    "**Sub-Sections:**\n",
    "\n",
    "- **Create and Activate a Conda Environment for Imaging**  \n",
    "  Isolates the environment to avoid package conflicts and maintain reproducibility.\n",
    "\n",
    "- **Install Napari and Required Libraries**  \n",
    "  Brings in essential tools (`napari`, `numpy`, `tifffile`) for data viewing and annotation.\n",
    "\n",
    "- **Test Napari Standalone and in Notebooks**  \n",
    "  Confirms that both interactive and notebook-based workflows are functional.\n",
    "\n",
    "**Goal**: Create a dedicated environment, install required packages, and verify that you can open Napari.\n",
    "\n",
    "**Exercise** Create and Activate a Conda Environment for Imaging"
   ]
  },
  {
   "cell_type": "markdown",
   "metadata": {},
   "source": [
    "```bash\n",
    "conda create -n napari-env python=3.9 -y\n",
    "conda activate napari-env\n",
    "```"
   ]
  },
  {
   "cell_type": "markdown",
   "metadata": {},
   "source": [
    "**Exercise** Install Napari and Required Libraries"
   ]
  },
  {
   "cell_type": "markdown",
   "metadata": {},
   "source": [
    "```bash\n",
    "pip install \"napari[all]\"\n",
    "pip install tifffile numpy matplotlib\n",
    "````\n"
   ]
  },
  {
   "cell_type": "markdown",
   "metadata": {},
   "source": [
    "**Exercise** Test Napari Standalone and in Notebook Mode"
   ]
  },
  {
   "cell_type": "markdown",
   "metadata": {},
   "source": [
    "```bash\n",
    "napari\n",
    "```"
   ]
  },
  {
   "cell_type": "markdown",
   "metadata": {},
   "source": [
    "**Exercise** Then, open a Jupyter notebook and run"
   ]
  },
  {
   "cell_type": "markdown",
   "metadata": {},
   "source": [
    "```python\n",
    "import napari\n",
    "viewer = napari.Viewer()\n",
    "\n",
    "```"
   ]
  },
  {
   "cell_type": "markdown",
   "metadata": {},
   "source": [
    "### Annotating a Single Neuron (Manual ROI in Notebook)\n",
    "\n",
    "This section focuses on identifying and labeling a single neuron in a calcium imaging dataset using Napari. We will generate a projection image to guide annotation, use the brush tool to create a labeled mask for one neuron, and export the mask for further analysis. Finally, we will apply the mask to the full movie to observe how fluorescence within the selected ROI changes over time. \n",
    "\n",
    "**Sub-Sections:**\n",
    "\n",
    "- **Create and Open Summary Image in Napari (Mean or Max Projection)**  \n",
    "  Generate a 2D projection of the movie and load it into Napari for clear visualization of cell boundaries.\n",
    "\n",
    "- **Create a Labeled Mask for One Neuron (Brush and Paint Fill)**  \n",
    "  Use the labels layer and brush tool to define the shape of a single neuron directly on the image.\n",
    "\n",
    "- **Export Binary Mask**  \n",
    "  Save the labeled mask as a binary image that can be reused or processed.\n",
    "\n",
    "- **Open TIF Movie with Mask and Visualize How Neuron Within the ROI Changes Intensity**  \n",
    "  Use the mask to extract a time trace of the neuron’s fluorescence and observe its activity over the imaging session.\n",
    "\n",
    "**Goal**: Annotate a single neuron using a summary image, export a binary mask, and observe how the neuron’s signal evolves over time.\n"
   ]
  },
  {
   "cell_type": "markdown",
   "metadata": {},
   "source": [
    "**Exercise** Create and Open Summary Image in Napari (Mean or Max Projection)\n",
    "\n",
    "Generate a projection image and open it in Napari for annotation"
   ]
  },
  {
   "cell_type": "code",
   "execution_count": 38,
   "metadata": {},
   "outputs": [],
   "source": [
    "viewer = napari.Viewer()"
   ]
  },
  {
   "cell_type": "code",
   "execution_count": 39,
   "metadata": {},
   "outputs": [
    {
     "data": {
      "text/plain": [
       "<Image layer 'Mean Projection' at 0x105d9143e30>"
      ]
     },
     "execution_count": 39,
     "metadata": {},
     "output_type": "execute_result"
    }
   ],
   "source": [
    "mean_proj = np.mean(movie, axis=0)\n",
    "viewer.add_image(mean_proj, name=\"Mean Projection\", colormap=\"gray\")"
   ]
  },
  {
   "cell_type": "code",
   "execution_count": 40,
   "metadata": {},
   "outputs": [
    {
     "data": {
      "text/plain": [
       "<Image layer 'Median Projection' at 0x105d7954c20>"
      ]
     },
     "execution_count": 40,
     "metadata": {},
     "output_type": "execute_result"
    }
   ],
   "source": [
    "median_proj = np.median(movie, axis=0)\n",
    "viewer.add_image(median_proj, name=\"Median Projection\", colormap=\"gray\")"
   ]
  },
  {
   "cell_type": "code",
   "execution_count": 41,
   "metadata": {},
   "outputs": [
    {
     "data": {
      "text/plain": [
       "<Image layer 'Maximum Projection' at 0x105cafb73e0>"
      ]
     },
     "execution_count": 41,
     "metadata": {},
     "output_type": "execute_result"
    }
   ],
   "source": [
    "max_proj = np.max(movie, axis=0)\n",
    "viewer.add_image(max_proj, name=\"Maximum Projection\", colormap=\"gray\")"
   ]
  },
  {
   "cell_type": "code",
   "execution_count": 42,
   "metadata": {},
   "outputs": [
    {
     "data": {
      "text/plain": [
       "<Image layer 'Standard Deviation Projection' at 0x105dabdc290>"
      ]
     },
     "execution_count": 42,
     "metadata": {},
     "output_type": "execute_result"
    }
   ],
   "source": [
    "std_proj = np.max(movie, axis=0)\n",
    "viewer.add_image(std_proj, name=\"Standard Deviation Projection\", colormap=\"gray\")"
   ]
  },
  {
   "cell_type": "markdown",
   "metadata": {},
   "source": [
    "**Exercise** Create a Labeled Mask for One Neuron (Brush and Paint Fill)\n",
    "\n",
    "Use the brush tool (press B or click the brush icon).\n",
    "\n",
    "- Set label value to 1.\n",
    "- Carefully paint over the cell body of the selected neuron.\n",
    "- Optional: Use the paint bucket tool to fill enclosed regions."
   ]
  },
  {
   "cell_type": "code",
   "execution_count": 43,
   "metadata": {},
   "outputs": [
    {
     "data": {
      "image/png": "[encoded data removed]",
      "text/plain": [
       "<Figure size 640x480 with 1 Axes>"
      ]
     },
     "metadata": {},
     "output_type": "display_data"
    }
   ],
   "source": [
    "roi1 = viewer.layers['roi1'].data\n",
    "plt.imshow(std_proj, cmap='gray')\n",
    "plt.imshow(roi1, cmap='Reds', alpha=0.2);"
   ]
  },
  {
   "cell_type": "code",
   "execution_count": 44,
   "metadata": {},
   "outputs": [
    {
     "data": {
      "image/png": "[encoded data removed]",
      "text/plain": [
       "<Figure size 640x480 with 1 Axes>"
      ]
     },
     "metadata": {},
     "output_type": "display_data"
    }
   ],
   "source": [
    "roi2 = viewer.layers['roi2'].data\n",
    "plt.imshow(std_proj, cmap='gray')\n",
    "plt.imshow(roi2, cmap='Reds', alpha=0.2);"
   ]
  },
  {
   "cell_type": "markdown",
   "metadata": {},
   "source": [
    "**Exercise** Load ROI"
   ]
  },
  {
   "cell_type": "code",
   "execution_count": null,
   "metadata": {},
   "outputs": [
    {
     "data": {
      "text/plain": [
       "<Labels layer 'ROI1' at 0x105dadefcb0>"
      ]
     },
     "execution_count": 49,
     "metadata": {},
     "output_type": "execute_result"
    }
   ],
   "source": [
    "viewer.add_labels(roi1, name=\"ROI1\")"
   ]
  },
  {
   "cell_type": "code",
   "execution_count": 50,
   "metadata": {},
   "outputs": [
    {
     "data": {
      "text/plain": [
       "<Labels layer 'ROI2' at 0x105d91d97c0>"
      ]
     },
     "execution_count": 50,
     "metadata": {},
     "output_type": "execute_result"
    }
   ],
   "source": [
    "viewer.add_labels(roi2, name=\"ROI2\")"
   ]
  },
  {
   "cell_type": "markdown",
   "metadata": {},
   "source": [
    "**Exercise** Open TIF Movie with Mask and Visualize How Neuron Within the ROI Changes Intensity"
   ]
  },
  {
   "cell_type": "code",
   "execution_count": 55,
   "metadata": {},
   "outputs": [],
   "source": [
    "viewer = napari.Viewer()"
   ]
  },
  {
   "cell_type": "code",
   "execution_count": 56,
   "metadata": {},
   "outputs": [
    {
     "data": {
      "text/plain": [
       "<Labels layer 'ROI 1' at 0x10584de4380>"
      ]
     },
     "execution_count": 56,
     "metadata": {},
     "output_type": "execute_result"
    }
   ],
   "source": [
    "viewer.add_image(movie, name=\"Full Movie\", colormap=\"gray\")\n",
    "viewer.add_labels(roi1, name='ROI 1')"
   ]
  },
  {
   "cell_type": "code",
   "execution_count": 57,
   "metadata": {},
   "outputs": [
    {
     "data": {
      "text/plain": [
       "<Labels layer 'ROI 2' at 0x105e0eff980>"
      ]
     },
     "execution_count": 57,
     "metadata": {},
     "output_type": "execute_result"
    }
   ],
   "source": [
    "viewer.add_labels(roi2, name='ROI 2')"
   ]
  },
  {
   "cell_type": "markdown",
   "metadata": {},
   "source": [
    "### Annotating Multiple Neurons in a Field of View\n",
    "\n",
    "This section covers how to label multiple neurons in a single imaging field using Napari’s annotation tools. Manual labeling of many cells is common when automated methods are unavailable or when human judgment is needed to resolve ambiguities. These ROIs can later be used for extracting fluorescence signals or training segmentation models.\n",
    "\n",
    "**Sub-Sections:**\n",
    "\n",
    "- **Draw ROIs for Several Neurons Using the Shapes Tool**  \n",
    "  Trains users to consistently annotate across different neurons.\n",
    "\n",
    "- **Label and Index ROIs for Organization**  \n",
    "  Adds structure and metadata to the annotation process for later analysis.\n",
    "\n",
    "- **Inspect for Overlap and Adjust ROIs as Needed**  \n",
    "  Builds spatial reasoning and encourages critical evaluation of annotations.\n",
    "\n",
    "- **Export the Complete ROI Set**  \n",
    "  Prepares the ROIs for downstream analysis or collaborative use.\n",
    "\n",
    "**Goal**: Load a summary image of the dataset and use Napari’s interactive viewer to manually annotate a single neuron using a polygon or ellipse ROI."
   ]
  },
  {
   "cell_type": "markdown",
   "metadata": {},
   "source": [
    "### Exporting Your ROIs: Coordinates, Masks, and More\n",
    "\n",
    "This section focuses on converting annotated ROIs into binary masks or coordinate data that can be used in further analysis. These representations make it possible to extract activity traces, apply quantitative metrics, or feed the labeled data into machine learning models.\n",
    "\n",
    "**Sub-Sections:**\n",
    "\n",
    "- **Access ROI Data from the Napari Viewer**  \n",
    "  Retrieves shape outlines or labels directly from the viewer session.\n",
    "\n",
    "- **Convert Polygons to Binary Masks for Signal Extraction**  \n",
    "  Translates visual annotations into pixel-level data for processing.\n",
    "\n",
    "- **Save Masks in TIFF or NumPy Format**  \n",
    "  Produces files that can be used in custom pipelines or shared across platforms.\n",
    "\n",
    "- **Overlay Masks on the Original Image for Verification**  \n",
    "  Allows visual confirmation that the annotations align with the data.\n"
   ]
  }
 ],
 "metadata": {
  "kernelspec": {
   "display_name": "calim",
   "language": "python",
   "name": "python3"
  },
  "language_info": {
   "codemirror_mode": {
    "name": "ipython",
    "version": 3
   },
   "file_extension": ".py",
   "mimetype": "text/x-python",
   "name": "python",
   "nbconvert_exporter": "python",
   "pygments_lexer": "ipython3",
   "version": "3.12.3"
  }
 },
 "nbformat": 4,
 "nbformat_minor": 2
}
