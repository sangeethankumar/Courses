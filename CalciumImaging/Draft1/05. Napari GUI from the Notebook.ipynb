{
 "cells": [
  {
   "cell_type": "markdown",
   "metadata": {},
   "source": [
    "# **Napari GUI from the Notebook: Labeling Images**\n",
    "\n",
    "This session explores how to use the Napari image viewer directly from a Jupyter notebook for manual annotation of calcium imaging data. You will learn to load imaging datasets, visualize them frame-by-frame, draw and manage regions of interest (ROIs), and organize those labels in a way that prepares the data for downstream analysis. The goal is to build a clean, intuitive, and reproducible manual labeling pipeline for multi-cell calcium imaging."
   ]
  },
  {
   "cell_type": "markdown",
   "metadata": {},
   "source": [
    "## **Section One: Drawing ROIs in Napari**\n",
    "\n",
    "Napari allows users to interactively draw regions of interest (ROIs) over cells in calcium imaging data. In this section, you will learn how to navigate the imaging dataset inside Napari and manually mark neurons using either shapes or label tools. Manual ROI labeling is often the first step in analyzing calcium signals from raw movies, and it ensures that the cell outlines used for analysis have been visually verified and curated by a human observer.\n",
    "\n",
    "**Sub-sections (for reference):**\n",
    "- **Loading Image Data into Napari Viewer**  \n",
    "  Load multi-cell TIFF data into Napari from a notebook interface.  \n",
    "  *Supports overarching goal by enabling image-based interaction essential for labeling.*\n",
    "\n",
    "- **Navigating Through Time and Planes**  \n",
    "  Use Napari’s time slider and contrast adjustment tools to locate neurons across frames.  \n",
    "  *Supports overarching goal by allowing precise identification of ROIs across time.*\n",
    "\n",
    "- **Using the Shapes or Labels Tool for ROI Drawing**  \n",
    "  Draw ROIs using built-in tools like polygons or the paintbrush.  \n",
    "  *Supports overarching goal by providing direct tools for neuron annotation.*\n",
    "\n",
    "- **Saving or Exporting Manual ROIs**  \n",
    "  Store labeled regions as arrays or masks for future use.  \n",
    "  *Supports overarching goal by making annotations reusable and ready for downstream analysis.*"
   ]
  },
  {
   "cell_type": "markdown",
   "metadata": {},
   "source": [
    "## **Section Two: Viewing Calcium Imaging Data with `view_image()`**\n",
    "\n",
    "Before any labeling can begin, it is necessary to load and view the imaging dataset. This section introduces the `view_image()` function, which allows users to load a calcium imaging movie into Napari directly from a notebook. You will learn how to interact with the image layer, adjust display settings, and inspect neuronal activity across time. This setup provides a critical foundation for labeling, enabling users to work directly on temporally rich imaging data.\n",
    "\n",
    "**Sub-sections (for reference):**\n",
    "- **Displaying TIFF Stack with `view_image()`**  \n",
    "  Load calcium imaging data and open it using `view_image()` from a notebook.  \n",
    "  *Supports overarching goal by enabling structured, programmable data viewing.*\n",
    "\n",
    "- **Adjusting Visualization Settings**  \n",
    "  Modify colormaps, contrast limits, and interpolation to improve visibility of cell bodies.  \n",
    "  *Supports overarching goal by enhancing the visual context for ROI placement.*\n",
    "\n",
    "- **Interacting with the Viewer API**  \n",
    "  Programmatically control zoom levels, slicing, and frame navigation.  \n",
    "  *Supports overarching goal by providing flexible tools to fine-tune the labeling interface.*\n",
    "\n",
    "- **Adding Metadata to the Image Layer**  \n",
    "  Attach context like frame rate or acquisition info to the image layer.  \n",
    "  *Supports overarching goal by documenting the data for reproducibility and interpretation.*"
   ]
  },
  {
   "cell_type": "markdown",
   "metadata": {},
   "source": [
    "## **Section Three: Managing Labels with Napari’s `Labels` Layer**\n",
    "\n",
    "After defining ROIs, the next step is to structure and manage them in a way that is compatible with further analysis. This section introduces Napari’s `Labels` layer, which enables users to assign unique identifiers to individual regions, refine their boundaries, and export them for use in downstream pipelines. Working with a structured label format ensures consistency across annotation sessions and prepares the data for integration with automated tools or trace extraction workflows.\n",
    "\n",
    "**Sub-sections (for reference):**\n",
    "- **Creating a Labels Layer from Existing ROIs**  \n",
    "  Convert shapes or manual selections into a `Labels` layer.  \n",
    "  *Supports overarching goal by transforming annotations into structured data.*\n",
    "\n",
    "- **Assigning and Managing Label IDs**  \n",
    "  Ensure that each neuron has a unique ID and resolve any overlaps.  \n",
    "  *Supports overarching goal by maintaining clarity and consistency in labeled data.*\n",
    "\n",
    "- **Editing and Refining Labels**  \n",
    "  Use brush tools or erasers to clean up or separate overlapping regions.  \n",
    "  *Supports overarching goal by allowing refinement of labels to match biological structures.*\n",
    "\n",
    "- **Exporting Labels for Downstream Analysis**  \n",
    "  Save the labels in formats compatible with tools like CaImAn or Suite2p.  \n",
    "  *Supports overarching goal by preparing data for quantitative trace extraction.*"
   ]
  }
 ],
 "metadata": {
  "language_info": {
   "name": "python"
  }
 },
 "nbformat": 4,
 "nbformat_minor": 2
}
