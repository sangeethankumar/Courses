{
 "cells": [
  {
   "cell_type": "markdown",
   "id": "8f743759",
   "metadata": {},
   "source": [
    "## 🧠 Advanced ROI Splitting  \n",
    "**Overarching Goal**:  \n",
    "This module introduces the process of subdividing ROIs that may encompass more than one neuron. As imaging resolution and signal complexity increase, it becomes more common for automated methods to group nearby neurons into a single ROI. In this module, you will learn how to recognize these cases, enhance local structure, and split such ROIs into distinct neuronal units — all while maintaining accuracy and interpretability."
   ]
  },
  {
   "cell_type": "markdown",
   "id": "1e4ccbaf",
   "metadata": {},
   "source": [
    "### **Identifying ROIs That Need Further Separation**  \n",
    "**Learning Goal**: Learn to recognize structural or intensity features in an ROI that suggest it may contain more than one neuron.  \n",
    "\n",
    "Some ROIs are unusually large, irregular in shape, or contain multiple peaks in intensity — features that may suggest the presence of more than one neuron. This section focuses on how to systematically identify these cases. You will learn to compute and interpret properties like compactness, peak count, and eccentricity, enabling more informed decisions about whether a region needs to be split.\n",
    "\n",
    "**Sub-sections:**\n",
    "1. Measure properties like eccentricity, area, and perimeter of existing ROIs  \n",
    "2. Compute local maxima within an ROI's intensity map  \n",
    "3. Mark ROIs for splitting based on peak count and shape irregularity  \n",
    "4. Visualize diagnostics using labeled overlays and intensity projections  "
   ]
  },
  {
   "cell_type": "markdown",
   "id": "edc42d83",
   "metadata": {},
   "source": [
    "### **Enhancing ROI Detail Through Local Filtering**  \n",
    "**Learning Goal**: Learn to improve contrast and emphasize internal features within an ROI using localized image enhancement techniques.  \n",
    "\n",
    "In order to distinguish overlapping or closely located neuron signals, it is helpful to enhance the internal structure of each ROI. This section introduces image processing techniques such as adaptive histogram equalization and Laplacian of Gaussian filtering. These methods help reveal subtle features and boundaries that are essential for accurate sub-segmentation.\n",
    "\n",
    "**Sub-sections:**\n",
    "1. Extract ROI sub-images from the full projection  \n",
    "2. Apply contrast-limited adaptive histogram equalization (CLAHE)  \n",
    "3. Use Laplacian of Gaussian (LoG) filtering to highlight neuron boundaries  \n",
    "4. Visualize enhanced ROI patches before and after filtering  "
   ]
  },
  {
   "cell_type": "markdown",
   "id": "6c05a0bb",
   "metadata": {},
   "source": [
    "### **Segmenting Sub-Regions Within an ROI**  \n",
    "**Learning Goal**: Learn to isolate meaningful sub-ROIs within a larger region using multi-peak detection and seeded segmentation.  \n",
    "\n",
    "With enhanced images available, it is now possible to separate one region into several distinct components. This section demonstrates how to apply peak detection and seeded watershed segmentation to produce individual sub-ROIs. You will use intensity peaks to generate seed points and rely on the underlying structure to guide clean segmentation.\n",
    "\n",
    "**Sub-sections:**\n",
    "1. Detect peaks within ROI using `skimage.feature.peak_local_max`  \n",
    "2. Generate initial markers using detected peaks  \n",
    "3. Apply `skimage.segmentation.watershed` with distance or LoG map  \n",
    "4. Label and visualize sub-ROIs with distinct colors for inspection  "
   ]
  },
  {
   "cell_type": "markdown",
   "id": "9b311a86",
   "metadata": {},
   "source": [
    "### **Updating the ROI Set With Split Outputs**  \n",
    "**Learning Goal**: Learn to replace and integrate split ROIs into the global segmentation mask, ensuring consistency and traceability.  \n",
    "\n",
    "Once the sub-ROIs have been generated, the original ROI must be replaced with its refined components in the complete dataset. This section covers how to update the segmentation mask, recompute relevant ROI statistics, and export the new set for analysis. You will also track metadata about the splitting process to ensure reproducibility and clarity.\n",
    "\n",
    "**Sub-sections:**\n",
    "1. Replace original ROI mask with newly split sub-masks  \n",
    "2. Recompute and append ROI statistics (centroids, sizes, labels)  \n",
    "3. Overlay final ROIs on the original image for final inspection  \n",
    "4. Save updated ROI masks and metadata (e.g., split origin, number of splits)  "
   ]
  }
 ],
 "metadata": {
  "kernelspec": {
   "display_name": "calim",
   "language": "python",
   "name": "python3"
  },
  "language_info": {
   "name": "python",
   "version": "3.12.3"
  }
 },
 "nbformat": 4,
 "nbformat_minor": 5
}
