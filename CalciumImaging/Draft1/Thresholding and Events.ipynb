{
 "cells": [
  {
   "cell_type": "markdown",
   "metadata": {},
   "source": [
    "# Thresholding and Events: Converting Continuous Calcium Traces into Discrete Event Times\n",
    "\n",
    "In this module, we will learn how to identify neural events from continuous ΔF/F₀ calcium traces. Calcium imaging data is inherently noisy and indirect, so interpreting neural activity requires identifying discrete moments — “events” — that indicate when neurons were likely active. This transition from continuous to event-based data is a critical step in calcium analysis and underpins much of what we do next: aligning events with stimuli, comparing across trials, or computing firing rates. We will explore both simple and advanced ways to extract event times, using tools ranging from NumPy to the OASIS spike inference algorithm."
   ]
  },
  {
   "cell_type": "markdown",
   "metadata": {},
   "source": [
    "\n",
    "## Section 1: Detecting Suprathreshold Activity with NumPy\n",
    "\n",
    "In this section, we will use simple NumPy-based thresholding to identify moments of elevated activity in a calcium trace. The goal is to mark time points where the signal is likely meaningful — that is, when a neuron may have fired. This approach is based on statistical thresholds derived from the trace itself, and while it does not provide precise spike inference, it introduces the idea of event detection and is a helpful stepping stone to more advanced methods. You will use basic descriptive statistics and logical indexing to isolate high-activity points in the signal.\n",
    "\n",
    "#### Learning Goals:\n",
    "- Compute baseline and noise statistics using the mean and standard deviation of the ΔF/F₀ trace.\n",
    "- Set a detection threshold and identify all time points where the signal exceeds this threshold.\n",
    "- Use `np.where()` and logical masks to extract suprathreshold indices.\n",
    "- Visualize the calcium trace alongside the detected activity points for verification."
   ]
  },
  {
   "cell_type": "markdown",
   "metadata": {},
   "source": [
    "\n",
    "## Section 2: Converting Suprathreshold Frames into Timestamps\n",
    "\n",
    "Once we have identified where the calcium trace exceeds a threshold, the next step is to determine when those events begin. In this section, we will learn how to detect the **onsets** of suprathreshold activity and convert those indices into timestamps. This helps eliminate redundancy from sustained signals and results in a clean list of candidate event times. You will use `np.diff()` and logical operations to find transitions in the thresholded signal and convert array indices into real-world time using the frame rate.\n",
    "\n",
    "#### Learning Goals:\n",
    "- Convert the thresholded trace into a binary (0/1) activity vector.\n",
    "- Use `np.diff()` to detect transitions from 0 to 1, indicating event onset.\n",
    "- Map the resulting indices to timestamps using the known sampling interval (`dt`).\n",
    "- Apply a refractory period if needed to avoid detecting multiple onsets for the same event."
   ]
  },
  {
   "cell_type": "markdown",
   "metadata": {},
   "source": [
    "## Section 3: Inferring Spike Events with the OASIS Algorithm\n",
    "\n",
    "In this section, we will introduce a more advanced method for extracting spike events from calcium traces using the OASIS algorithm. OASIS fits a generative model of calcium dynamics to estimate the most likely times of neuronal firing, returning both spike amplitudes and deconvolved activity. This approach improves temporal resolution and accounts for the shape of calcium transients, making it particularly suitable for precise event detection in high-throughput datasets. You will learn how to apply the `deconvolve()` function from the `oasis` package and extract spike timings from its output.\n",
    "\n",
    "#### Learning Goals:\n",
    "- Install and import the OASIS package and load a calcium trace for analysis.\n",
    "- Use the `deconvolve()` function to obtain spike train (`s`), denoised trace (`c`), and baseline (`b`).\n",
    "- Extract non-zero entries from the spike train and convert them to timestamps and amplitudes.\n",
    "- Apply a minimum amplitude threshold to remove low-confidence events if needed."
   ]
  },
  {
   "cell_type": "markdown",
   "metadata": {},
   "source": [
    "## Section 4: Visualizing Firing Rate from Event Timestamps\n",
    "\n",
    "With a list of inferred spike times, we can now compute and visualize firing rates — a central measure in neuroscience data analysis. In this section, we will convert event timestamps into a time-resolved firing rate trace using binning methods. You will learn how to create histograms of spike counts over time, normalize the data to obtain rates in hertz, and apply optional smoothing for improved interpretability. Firing rate traces allow for direct comparisons across neurons, conditions, or experimental time windows.\n",
    "\n",
    "#### Learning Goals:\n",
    "- Define time bins using `np.arange()` based on the trace duration and desired temporal resolution.\n",
    "- Count the number of events in each bin using `np.histogram()`.\n",
    "- Normalize spike counts to obtain firing rates in Hz (`rate = count / bin_width`).\n",
    "- Plot the resulting firing rate trace and apply smoothing using convolution or filtering functions."
   ]
  }
 ],
 "metadata": {
  "kernelspec": {
   "display_name": "calim",
   "language": "python",
   "name": "python3"
  },
  "language_info": {
   "name": "python",
   "version": "3.12.9"
  }
 },
 "nbformat": 4,
 "nbformat_minor": 2
}
