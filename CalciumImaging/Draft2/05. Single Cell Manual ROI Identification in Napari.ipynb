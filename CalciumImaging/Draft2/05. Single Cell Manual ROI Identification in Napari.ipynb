{
 "cells": [
  {
   "cell_type": "code",
   "execution_count": 1,
   "metadata": {},
   "outputs": [],
   "source": [
    "import tifffile\n",
    "import numpy as np\n",
    "import matplotlib.pyplot as plt"
   ]
  },
  {
   "cell_type": "code",
   "execution_count": 2,
   "metadata": {},
   "outputs": [],
   "source": [
    "cell1_data = tifffile.imread('data/cell1.tif')\n",
    "cell2_data = tifffile.imread('data/cell2.tif')\n",
    "cell3_data = tifffile.imread('data/cell3.tif')"
   ]
  },
  {
   "cell_type": "markdown",
   "metadata": {},
   "source": [
    "# Manual ROI Selection with Napari\n",
    "\n",
    "Identifying individual neurons in calcium imaging data is an essential step in extracting activity traces and understanding single-cell dynamics. Manual annotation or ROI selection is one of the most intuitive tools for identifying neurons and reduces errors that might be introduced from automated tools, especially for small datasets. This notebook introduces manual annotation tools in Napari, a viewer designed for biological image analysis."
   ]
  },
  {
   "cell_type": "markdown",
   "metadata": {},
   "source": [
    "### Setting Up Napari with Conda\n",
    "\n",
    "This section focuses on setting up a working Python environment for loading and annotating calcium imaging data. Using Conda, we will install Napari and supporting libraries and verify that imaging data can be loaded and visualized. "
   ]
  },
  {
   "cell_type": "markdown",
   "metadata": {},
   "source": [
    "```bash\n",
    "conda create -n napari-env python=3.9 -y\n",
    "conda activate napari-env\n",
    "```"
   ]
  },
  {
   "cell_type": "markdown",
   "metadata": {},
   "source": [
    "**Exercise** Install Napari and Required Libraries"
   ]
  },
  {
   "cell_type": "markdown",
   "metadata": {},
   "source": [
    "```bash\n",
    "pip install \"napari[all]\"\n",
    "pip install tifffile numpy matplotlib\n",
    "````\n"
   ]
  },
  {
   "cell_type": "markdown",
   "metadata": {},
   "source": [
    "**Exercise** Test Napari Standalone and in Notebook Mode"
   ]
  },
  {
   "cell_type": "markdown",
   "metadata": {},
   "source": [
    "```bash\n",
    "napari\n",
    "```"
   ]
  },
  {
   "cell_type": "markdown",
   "metadata": {},
   "source": [
    "**Exercise** Then, open a Jupyter notebook and run"
   ]
  },
  {
   "cell_type": "markdown",
   "metadata": {},
   "source": [
    "```python\n",
    "import napari\n",
    "viewer = napari.Viewer()\n",
    "\n",
    "```"
   ]
  },
  {
   "cell_type": "markdown",
   "metadata": {},
   "source": [
    "### Adding Calcium Imaging Data to Napari Viewer."
   ]
  },
  {
   "cell_type": "code",
   "execution_count": 19,
   "metadata": {},
   "outputs": [],
   "source": [
    "import napari\n",
    "viewer = napari.Viewer()"
   ]
  },
  {
   "cell_type": "markdown",
   "metadata": {},
   "source": [
    "Napari viewer can handle movie data which enables us to see every frame of the TIFF data. Napari adds image/movie as a new layer in the viewer that you can enable or disable by clicking on the eye-tool left of the layer name.\n",
    "\n",
    "**Example** Load `cell1_data` in napari and see all the frames. \n",
    "\n",
    "*Hint* To adjust `frames_per_second`, right click on the play button."
   ]
  },
  {
   "cell_type": "code",
   "execution_count": 20,
   "metadata": {},
   "outputs": [
    {
     "data": {
      "text/plain": [
       "<Image layer 'Cell 1' at 0x15cd4cb18b0>"
      ]
     },
     "execution_count": 20,
     "metadata": {},
     "output_type": "execute_result"
    }
   ],
   "source": [
    "viewer.add_image(cell1_data, name='Cell 1')"
   ]
  },
  {
   "cell_type": "markdown",
   "metadata": {},
   "source": [
    "Load `cell2_data` in napari and see all the frames.\n",
    "\n",
    "*Hint* Disable playing of previous frame by clicking on the eye-tool."
   ]
  },
  {
   "cell_type": "code",
   "execution_count": 21,
   "metadata": {},
   "outputs": [
    {
     "data": {
      "text/plain": [
       "<Image layer 'Cell 2' at 0x15c81149a00>"
      ]
     },
     "execution_count": 21,
     "metadata": {},
     "output_type": "execute_result"
    }
   ],
   "source": [
    "viewer.add_image(cell2_data, name='Cell 2')"
   ]
  },
  {
   "cell_type": "markdown",
   "metadata": {},
   "source": [
    "Load `cell3_data` in napari and see all the frames."
   ]
  },
  {
   "cell_type": "code",
   "execution_count": 22,
   "metadata": {},
   "outputs": [
    {
     "data": {
      "text/plain": [
       "<Image layer 'Cell 3' at 0x15c908d0a40>"
      ]
     },
     "execution_count": 22,
     "metadata": {},
     "output_type": "execute_result"
    }
   ],
   "source": [
    "viewer.add_image(cell3_data, name='Cell 3')"
   ]
  },
  {
   "cell_type": "markdown",
   "metadata": {},
   "source": [
    "We can also pass in only selected frames. Before we do that, let's remove the existing movies.\n",
    "\n",
    "To do this, \n",
    "\n",
    "- select a layer in napari viewer\n",
    "- click on delete selected layer button"
   ]
  },
  {
   "cell_type": "markdown",
   "metadata": {},
   "source": [
    "Delete `Cell 1` layer."
   ]
  },
  {
   "cell_type": "markdown",
   "metadata": {},
   "source": [
    "Delete `Cell 2` layer."
   ]
  },
  {
   "cell_type": "markdown",
   "metadata": {},
   "source": [
    "Delete `Cell 3` layer."
   ]
  },
  {
   "cell_type": "markdown",
   "metadata": {},
   "source": [
    "**Example** Load and play only the first 100 frames of `Cell 1`."
   ]
  },
  {
   "cell_type": "code",
   "execution_count": null,
   "metadata": {},
   "outputs": [
    {
     "data": {
      "text/plain": [
       "<Image layer 'Cell 1' at 0x15c941c7620>"
      ]
     },
     "execution_count": 30,
     "metadata": {},
     "output_type": "execute_result"
    }
   ],
   "source": [
    "viewer.add_image(cell1_data[:100], name='Cell 1')"
   ]
  },
  {
   "cell_type": "markdown",
   "metadata": {},
   "source": [
    "Load and play only the first 1200 frames of `Cell 1`."
   ]
  },
  {
   "cell_type": "code",
   "execution_count": 31,
   "metadata": {},
   "outputs": [
    {
     "data": {
      "text/plain": [
       "<Image layer 'Cell 1' at 0x15c930f6210>"
      ]
     },
     "execution_count": 31,
     "metadata": {},
     "output_type": "execute_result"
    }
   ],
   "source": [
    "viewer.add_image(cell1_data[:1200], name='Cell 1')"
   ]
  },
  {
   "cell_type": "markdown",
   "metadata": {},
   "source": [
    "Load and play only the frames between 1000 and 1200."
   ]
  },
  {
   "cell_type": "code",
   "execution_count": 32,
   "metadata": {},
   "outputs": [
    {
     "data": {
      "text/plain": [
       "<Image layer 'Cell 1 [1]' at 0x15c813a2b70>"
      ]
     },
     "execution_count": 32,
     "metadata": {},
     "output_type": "execute_result"
    }
   ],
   "source": [
    "viewer.add_image(cell1_data[1000:1200], name='Cell 1')"
   ]
  },
  {
   "cell_type": "markdown",
   "metadata": {},
   "source": [
    "We often use summary images and not the movies to identify neurons.\n",
    "\n",
    "**Example** Open mean projection of `Cell1` in Napari."
   ]
  },
  {
   "cell_type": "code",
   "execution_count": 33,
   "metadata": {},
   "outputs": [
    {
     "data": {
      "text/plain": [
       "<Image layer 'Mean' at 0x15c908d13d0>"
      ]
     },
     "execution_count": 33,
     "metadata": {},
     "output_type": "execute_result"
    }
   ],
   "source": [
    "mean_proj = cell1_data.mean(axis=0)\n",
    "viewer.add_image(mean_proj, name=\"Mean\", colormap=\"gray\")"
   ]
  },
  {
   "cell_type": "markdown",
   "metadata": {},
   "source": [
    "Add max projection of `Cell2` to an existing napari viewer "
   ]
  },
  {
   "cell_type": "code",
   "execution_count": 34,
   "metadata": {},
   "outputs": [
    {
     "data": {
      "text/plain": [
       "<Image layer 'Max' at 0x15c909fca70>"
      ]
     },
     "execution_count": 34,
     "metadata": {},
     "output_type": "execute_result"
    }
   ],
   "source": [
    "max_proj = cell1_data.max(axis=0)\n",
    "viewer.add_image(max_proj, name=\"Max\", colormap=\"gray\")"
   ]
  },
  {
   "cell_type": "markdown",
   "metadata": {},
   "source": [
    "Open std projection of `Cell1` in Napari"
   ]
  },
  {
   "cell_type": "code",
   "execution_count": 35,
   "metadata": {},
   "outputs": [
    {
     "data": {
      "text/plain": [
       "<Image layer 'Std' at 0x15c908608f0>"
      ]
     },
     "execution_count": 35,
     "metadata": {},
     "output_type": "execute_result"
    }
   ],
   "source": [
    "std_proj = cell1_data.std(axis=0)\n",
    "viewer.add_image(std_proj, name=\"Std\", colormap=\"gray\")"
   ]
  },
  {
   "cell_type": "markdown",
   "metadata": {},
   "source": [
    "### Annotating A Neuron using Labels Layer\n",
    "\n",
    "\n",
    "**Example** Create a cell mask for `Cell 1`\n",
    "\n",
    "- Click on `New Labels Layer` and rename it to `roi`.\n",
    "- Click the brush icon or press B to select the brush tool.\n",
    "- Carefully paint over the cell body of the selected neuron.\n",
    "- Optional: Use the paint bucket tool to fill enclosed regions."
   ]
  },
  {
   "cell_type": "markdown",
   "metadata": {},
   "source": [
    "Create a neuropil mask around `Cell 1` in another layer called `neuropil`."
   ]
  },
  {
   "cell_type": "markdown",
   "metadata": {},
   "source": [
    "We can access the layers from the jupyter notebook directly without having to first export it to another file.\n",
    "\n",
    "**Example** Access `roi` and plot it in the notebook."
   ]
  },
  {
   "cell_type": "code",
   "execution_count": 37,
   "metadata": {},
   "outputs": [
    {
     "data": {
      "image/png": "[encoded data removed]",
      "text/plain": [
       "<Figure size 640x480 with 1 Axes>"
      ]
     },
     "metadata": {},
     "output_type": "display_data"
    }
   ],
   "source": [
    "roi = viewer.layers['roi'].data\n",
    "plt.imshow(roi, cmap='Reds');"
   ]
  },
  {
   "cell_type": "markdown",
   "metadata": {},
   "source": [
    "Access `neuropil` layer and plot it in notebook."
   ]
  },
  {
   "cell_type": "code",
   "execution_count": 38,
   "metadata": {},
   "outputs": [
    {
     "data": {
      "image/png": "[encoded data removed]",
      "text/plain": [
       "<Figure size 640x480 with 1 Axes>"
      ]
     },
     "metadata": {},
     "output_type": "display_data"
    }
   ],
   "source": [
    "npil = viewer.layers['neuropil'].data\n",
    "plt.imshow(npil, cmap='Blues');"
   ]
  },
  {
   "cell_type": "markdown",
   "metadata": {},
   "source": [
    "The changes made in a layer in napari is reflected within jupyter notebook.\n",
    "\n",
    "Modify neuropil mask be adding or deleting a few pixels within the mask (erasor tool) and access the layer again in jupyter notebook."
   ]
  },
  {
   "cell_type": "code",
   "execution_count": 40,
   "metadata": {},
   "outputs": [
    {
     "data": {
      "image/png": "[encoded data removed]",
      "text/plain": [
       "<Figure size 640x480 with 1 Axes>"
      ]
     },
     "metadata": {},
     "output_type": "display_data"
    }
   ],
   "source": [
    "npil = viewer.layers['neuropil'].data\n",
    "plt.imshow(npil, cmap='Blues');"
   ]
  },
  {
   "cell_type": "markdown",
   "metadata": {},
   "source": [
    "### Saving and Loading ROIs.\n",
    "\n",
    "**Example** Save `roi` layer to `roi.npy` file."
   ]
  },
  {
   "cell_type": "code",
   "execution_count": 42,
   "metadata": {},
   "outputs": [],
   "source": [
    "roi = viewer.layers['roi'].data\n",
    "np.save('roi.npy', roi)"
   ]
  },
  {
   "cell_type": "markdown",
   "metadata": {},
   "source": [
    "Save `neuropil` layer to `npil.npy` file"
   ]
  },
  {
   "cell_type": "code",
   "execution_count": 43,
   "metadata": {},
   "outputs": [],
   "source": [
    "npil = viewer.layers['neuropil'].data\n",
    "np.save('npil.npy', npil)"
   ]
  },
  {
   "cell_type": "markdown",
   "metadata": {},
   "source": [
    "**Example** Load `roi.npy` as `ROI` layer."
   ]
  },
  {
   "cell_type": "code",
   "execution_count": 44,
   "metadata": {},
   "outputs": [
    {
     "data": {
      "text/plain": [
       "<Labels layer 'ROI' at 0x15c9802efc0>"
      ]
     },
     "execution_count": 44,
     "metadata": {},
     "output_type": "execute_result"
    }
   ],
   "source": [
    "roi_from_file = np.load('roi.npy')\n",
    "viewer.add_labels(roi_from_file, name=\"ROI\")"
   ]
  },
  {
   "cell_type": "markdown",
   "metadata": {},
   "source": [
    "Load `npil.npy` as `NPIL` layer."
   ]
  },
  {
   "cell_type": "code",
   "execution_count": 45,
   "metadata": {},
   "outputs": [
    {
     "data": {
      "text/plain": [
       "<Labels layer 'NPIL' at 0x15c908d3bf0>"
      ]
     },
     "execution_count": 45,
     "metadata": {},
     "output_type": "execute_result"
    }
   ],
   "source": [
    "npil_from_file = np.load('npil.npy')\n",
    "viewer.add_labels(npil_from_file, name=\"NPIL\")"
   ]
  }
 ],
 "metadata": {
  "kernelspec": {
   "display_name": "calim",
   "language": "python",
   "name": "python3"
  },
  "language_info": {
   "codemirror_mode": {
    "name": "ipython",
    "version": 3
   },
   "file_extension": ".py",
   "mimetype": "text/x-python",
   "name": "python",
   "nbconvert_exporter": "python",
   "pygments_lexer": "ipython3",
   "version": "3.12.3"
  }
 },
 "nbformat": 4,
 "nbformat_minor": 2
}
