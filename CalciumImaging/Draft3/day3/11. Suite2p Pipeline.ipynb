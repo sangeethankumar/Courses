{
 "cells": [
  {
   "cell_type": "code",
   "execution_count": null,
   "id": "99eb0cf8",
   "metadata": {},
   "outputs": [],
   "source": [
    "import matplotlib.pyplot as plt\n",
    "import numpy as np\n",
    "import suite2p\n",
    "from suite2p.registration import register\n",
    "import tifffile"
   ]
  },
  {
   "cell_type": "markdown",
   "id": "d232fdf4",
   "metadata": {},
   "source": [
    "# Suite2p Pipeline"
   ]
  },
  {
   "cell_type": "code",
   "execution_count": null,
   "id": "bc980d05",
   "metadata": {},
   "outputs": [],
   "source": [
    "ops = suite2p.default_ops()"
   ]
  },
  {
   "cell_type": "markdown",
   "id": "0ee0e30a",
   "metadata": {},
   "source": [
    "## Pipeline Configurations"
   ]
  },
  {
   "cell_type": "markdown",
   "id": "8d57260e",
   "metadata": {},
   "source": [
    "Kernel for deconvolution"
   ]
  },
  {
   "cell_type": "code",
   "execution_count": null,
   "id": "fffe9a79",
   "metadata": {},
   "outputs": [],
   "source": [
    "ops['tau']"
   ]
  },
  {
   "cell_type": "markdown",
   "id": "1b069838",
   "metadata": {},
   "source": [
    "Sampling rate"
   ]
  },
  {
   "cell_type": "code",
   "execution_count": null,
   "id": "71c7dc58",
   "metadata": {},
   "outputs": [],
   "source": [
    "ops['fs']"
   ]
  },
  {
   "cell_type": "markdown",
   "id": "b54b5d6a",
   "metadata": {},
   "source": [
    "Set `nonrigid` to False to do rigid registration"
   ]
  },
  {
   "cell_type": "code",
   "execution_count": null,
   "id": "3c24d2e4",
   "metadata": {},
   "outputs": [],
   "source": [
    "ops['nonrigid'] = False\n",
    "ops['nonrigid']"
   ]
  },
  {
   "cell_type": "markdown",
   "id": "b19997a2",
   "metadata": {},
   "source": [
    "Set `fs` to 30"
   ]
  },
  {
   "cell_type": "code",
   "execution_count": null,
   "id": "c15be784",
   "metadata": {},
   "outputs": [],
   "source": [
    "ops['fs'] = 30\n",
    "ops['fs']"
   ]
  },
  {
   "cell_type": "markdown",
   "id": "37787e13",
   "metadata": {},
   "source": [
    "Set `spikedetect` to True"
   ]
  },
  {
   "cell_type": "code",
   "execution_count": null,
   "id": "dc959844",
   "metadata": {},
   "outputs": [],
   "source": [
    "ops['spikedetect'] = True\n",
    "ops['spikedetect']"
   ]
  },
  {
   "cell_type": "markdown",
   "id": "d212d2af",
   "metadata": {},
   "source": [
    "*Data-related arguments in db*"
   ]
  },
  {
   "cell_type": "code",
   "execution_count": null,
   "id": "e1cf8351",
   "metadata": {},
   "outputs": [],
   "source": [
    "db = {\n",
    "    'data_path': ['data'],\n",
    "}\n",
    "db"
   ]
  },
  {
   "cell_type": "markdown",
   "id": "1d43386f",
   "metadata": {},
   "source": [
    "## Running Rigid Registration"
   ]
  },
  {
   "cell_type": "code",
   "execution_count": null,
   "id": "5e70a834",
   "metadata": {},
   "outputs": [],
   "source": [
    "data = tifffile.imread('data/data.tif')\n",
    "data.shape"
   ]
  },
  {
   "cell_type": "code",
   "execution_count": null,
   "id": "4aa1b501",
   "metadata": {},
   "outputs": [],
   "source": [
    "ops['nonrigid'] = False\n",
    "ops['Lx'] = data.shape[2]\n",
    "ops['Ly'] = data.shape[1]\n",
    "ops['nimg_imit'] = 300\n",
    "refImg = register.pick_initial_reference(data)\n",
    "plt.imshow(refImg)"
   ]
  },
  {
   "cell_type": "code",
   "execution_count": null,
   "id": "21c00525",
   "metadata": {},
   "outputs": [],
   "source": [
    "ops['nonrigid'] = False\n",
    "ops['Lx'] = data.shape[2]\n",
    "ops['Ly'] = data.shape[1]\n",
    "ops['nimg_imit'] = 10\n",
    "refImg = register.pick_initial_reference(data)\n",
    "plt.imshow(refImg)"
   ]
  },
  {
   "cell_type": "code",
   "execution_count": null,
   "id": "62a25852",
   "metadata": {},
   "outputs": [],
   "source": [
    "ops['nonrigid'] = False\n",
    "ops['Lx'] = data.shape[2]\n",
    "ops['Ly'] = data.shape[1]\n",
    "ops['nimg_imit'] = 1\n",
    "refImg = register.pick_initial_reference(data)\n",
    "plt.imshow(refImg)"
   ]
  },
  {
   "cell_type": "code",
   "execution_count": null,
   "id": "375c88bc",
   "metadata": {},
   "outputs": [],
   "source": []
  },
  {
   "cell_type": "markdown",
   "id": "689e2eb7",
   "metadata": {},
   "source": [
    "## Non-Rigid Registration"
   ]
  },
  {
   "cell_type": "markdown",
   "id": "16f797e5",
   "metadata": {},
   "source": [
    "## Output Parameters"
   ]
  }
 ],
 "metadata": {
  "kernelspec": {
   "display_name": "s2p",
   "language": "python",
   "name": "python3"
  },
  "language_info": {
   "codemirror_mode": {
    "name": "ipython",
    "version": 3
   },
   "file_extension": ".py",
   "mimetype": "text/x-python",
   "name": "python",
   "nbconvert_exporter": "python",
   "pygments_lexer": "ipython3",
   "version": "3.9.21"
  }
 },
 "nbformat": 4,
 "nbformat_minor": 5
}
